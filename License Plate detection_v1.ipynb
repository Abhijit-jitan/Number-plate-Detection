{
 "cells": [
  {
   "cell_type": "code",
   "execution_count": 1,
   "id": "9e8f1768",
   "metadata": {
    "ExecuteTime": {
     "end_time": "2021-08-26T16:42:00.843335Z",
     "start_time": "2021-08-26T16:42:00.823393Z"
    }
   },
   "outputs": [],
   "source": [
    "## Import Libraries"
   ]
  },
  {
   "cell_type": "code",
   "execution_count": 3,
   "id": "e70285a5",
   "metadata": {
    "ExecuteTime": {
     "end_time": "2021-08-26T16:49:15.082246Z",
     "start_time": "2021-08-26T16:49:15.065760Z"
    }
   },
   "outputs": [],
   "source": [
    "import cv2\n",
    "import numpy as np\n"
   ]
  },
  {
   "cell_type": "code",
   "execution_count": 4,
   "id": "00baf46a",
   "metadata": {
    "ExecuteTime": {
     "end_time": "2021-08-26T16:49:15.552533Z",
     "start_time": "2021-08-26T16:49:15.532045Z"
    }
   },
   "outputs": [],
   "source": [
    "## Read image"
   ]
  },
  {
   "cell_type": "code",
   "execution_count": 5,
   "id": "5977240c",
   "metadata": {
    "ExecuteTime": {
     "end_time": "2021-08-26T16:49:16.039492Z",
     "start_time": "2021-08-26T16:49:15.951465Z"
    }
   },
   "outputs": [],
   "source": [
    "#path=r\"image1.jpg\"\n",
    "\n",
    "img=cv2.imread(r\"C:\\Users\\JokeRR\\Referances\\python_projects\\Number-plate Detection\\image1.jpg\")\n",
    "gray_scale=cv2.cvtColor(img,cv2.COLOR_BGR2GRAY)     # converting to gray-scale\n",
    "\n",
    "bfilter=cv2.bilateralFilter(gray_scale,11,17,17)    # Noise reduction\n",
    "canny_edge=cv2.Canny(bfilter,30,200)                # Edge detection\n",
    "\n",
    "#cv2.imshow('img',img)\n",
    "#cv2.imshow('Gray_scaled',gray_scale)\n",
    "#cv2.imshow('noise_reduction',bfilter)\n",
    "#cv2.imshow('Gray_scaled',canny_edge)\n",
    "#cv2.waitKey(0)\n"
   ]
  },
  {
   "cell_type": "code",
   "execution_count": 6,
   "id": "9324880b",
   "metadata": {
    "ExecuteTime": {
     "end_time": "2021-08-26T16:49:19.601640Z",
     "start_time": "2021-08-26T16:49:16.783869Z"
    }
   },
   "outputs": [],
   "source": [
    "## Load haarcascade\n",
    "\n",
    "#plates_cascade = cv2.CascadeClassifier('haarcascade_russian_plate_number.xml') #does not give me error, but result is not correct\n",
    "#plates_cascade=cv2.CascadeClassifier(cv2.data.haarcascades +\"Number-plate Detection\\haarcascade_licence_plate_rus_16stages.xml\")\n",
    "plates_cascade=cv2.CascadeClassifier(r\"C:\\Users\\JokeRR\\Referances\\python_projects\\Number-plate Detection\\russian number plate.xml\") \n",
    "plates=plates_cascade.detectMultiScale(img,1.2,4)\n",
    "\n",
    "# print(plates)  ## Number_plate location"
   ]
  },
  {
   "cell_type": "code",
   "execution_count": 7,
   "id": "ac390acc",
   "metadata": {
    "ExecuteTime": {
     "end_time": "2021-08-26T16:49:20.026942Z",
     "start_time": "2021-08-26T16:49:20.001389Z"
    }
   },
   "outputs": [],
   "source": [
    "## Location \n",
    "for (x,y,w,h) in plates:\n",
    "\n",
    "    ## detect plate with rectangle\n",
    "    plates_rec=cv2.rectangle(img,(x,y),(x+w,y+h),(0,255,0),2)        \n",
    "    cv2.putText(plates_rec,'N_plate Detected',(x,y-3),cv2.FONT_HERSHEY_SIMPLEX,1,(130,255,255),1)\n",
    "\n",
    "    #gray_plates=gray_scale[y:y+h,x:x+w]\n",
    "    #color_plates=img[y:y+h, x:x+w]\n",
    "\n",
    "    #height,width,chanel=gray_plates.shape\n",
    "    #print(height,width)\n",
    "    "
   ]
  },
  {
   "cell_type": "code",
   "execution_count": 8,
   "id": "9391edcf",
   "metadata": {
    "ExecuteTime": {
     "end_time": "2021-08-26T16:49:20.452761Z",
     "start_time": "2021-08-26T16:49:20.441785Z"
    }
   },
   "outputs": [],
   "source": [
    "## Crop & Extract Number plate\n",
    "cropped_plate=img[y:y+h,x:x+w] \n",
    "\n"
   ]
  },
  {
   "cell_type": "code",
   "execution_count": null,
   "id": "2a10d901",
   "metadata": {
    "ExecuteTime": {
     "start_time": "2021-08-26T16:44:21.608Z"
    }
   },
   "outputs": [],
   "source": [
    "cv2.imshow('img',img)\n",
    "cv2.imshow('croppimg',cropped_plate)\n",
    "#cv2.imshow('img',plates_rec)\n",
    "#cv2.imshow('img',gray_plates)\n",
    "\n",
    "cv2.waitKey(0)\n",
    "print('Number of detected licence plates:', len(plates))"
   ]
  },
  {
   "cell_type": "code",
   "execution_count": null,
   "id": "7fe0ae84",
   "metadata": {},
   "outputs": [],
   "source": [
    "#pytesseract.pytesseract.tesseract_cmd=r\"\""
   ]
  },
  {
   "cell_type": "code",
   "execution_count": 52,
   "id": "f87d9aa2",
   "metadata": {
    "ExecuteTime": {
     "end_time": "2021-08-26T16:06:28.123563Z",
     "start_time": "2021-08-26T16:06:28.106731Z"
    }
   },
   "outputs": [],
   "source": []
  },
  {
   "cell_type": "code",
   "execution_count": 9,
   "id": "95f6e3b0",
   "metadata": {
    "ExecuteTime": {
     "end_time": "2021-08-26T16:49:26.577592Z",
     "start_time": "2021-08-26T16:49:26.527732Z"
    }
   },
   "outputs": [
    {
     "data": {
      "text/plain": [
       "True"
      ]
     },
     "execution_count": 9,
     "metadata": {},
     "output_type": "execute_result"
    }
   ],
   "source": [
    "## Current date-time\n",
    "import datetime as dt\n",
    "t=dt.datetime.now()\n",
    "time_now=t.strftime(\"%Y-%b-%d %H_%M_%S\")\n",
    "\n",
    "\n",
    "## Save extracted number-plate\n",
    "\n",
    "# Here Idea is to save file-name as 'current date-time'\n",
    "abs_path=r\"extracted_number_plate/\"\n",
    "file_nme=abs_path+time_now+'.png'\n",
    "#print(file_nme)                            ## ex: filename/2021-Aug-26 17_38_01.png\n",
    "\n",
    "cv2.imwrite(file_nme,cropped_plate)"
   ]
  },
  {
   "cell_type": "code",
   "execution_count": null,
   "id": "7c8ce96f",
   "metadata": {
    "ExecuteTime": {
     "start_time": "2021-08-26T16:44:53.962Z"
    }
   },
   "outputs": [],
   "source": [
    "file_nme"
   ]
  },
  {
   "cell_type": "code",
   "execution_count": null,
   "id": "c7da5c23",
   "metadata": {},
   "outputs": [],
   "source": []
  },
  {
   "cell_type": "code",
   "execution_count": null,
   "id": "a0872273",
   "metadata": {},
   "outputs": [],
   "source": []
  },
  {
   "cell_type": "code",
   "execution_count": null,
   "id": "595bfec0",
   "metadata": {},
   "outputs": [],
   "source": []
  },
  {
   "cell_type": "code",
   "execution_count": null,
   "id": "0b017c7c",
   "metadata": {},
   "outputs": [],
   "source": []
  },
  {
   "cell_type": "code",
   "execution_count": null,
   "id": "43488a4a",
   "metadata": {},
   "outputs": [],
   "source": []
  }
 ],
 "metadata": {
  "kernelspec": {
   "display_name": "Python 3",
   "language": "python",
   "name": "python3"
  },
  "language_info": {
   "codemirror_mode": {
    "name": "ipython",
    "version": 3
   },
   "file_extension": ".py",
   "mimetype": "text/x-python",
   "name": "python",
   "nbconvert_exporter": "python",
   "pygments_lexer": "ipython3",
   "version": "3.8.8"
  },
  "toc": {
   "base_numbering": 1,
   "nav_menu": {},
   "number_sections": true,
   "sideBar": true,
   "skip_h1_title": false,
   "title_cell": "Table of Contents",
   "title_sidebar": "Contents",
   "toc_cell": false,
   "toc_position": {},
   "toc_section_display": true,
   "toc_window_display": false
  },
  "varInspector": {
   "cols": {
    "lenName": 16,
    "lenType": 16,
    "lenVar": 40
   },
   "kernels_config": {
    "python": {
     "delete_cmd_postfix": "",
     "delete_cmd_prefix": "del ",
     "library": "var_list.py",
     "varRefreshCmd": "print(var_dic_list())"
    },
    "r": {
     "delete_cmd_postfix": ") ",
     "delete_cmd_prefix": "rm(",
     "library": "var_list.r",
     "varRefreshCmd": "cat(var_dic_list()) "
    }
   },
   "types_to_exclude": [
    "module",
    "function",
    "builtin_function_or_method",
    "instance",
    "_Feature"
   ],
   "window_display": false
  }
 },
 "nbformat": 4,
 "nbformat_minor": 5
}
